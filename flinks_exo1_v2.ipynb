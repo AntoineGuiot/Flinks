{
 "cells": [
  {
   "cell_type": "markdown",
   "metadata": {},
   "source": [
    "Flinks Data Scientist - Technical Test\n",
    "=============================\n",
    "\n",
    "Exercise 1: Machine Learning Model\n",
    "----------\n",
    "**Description :**\n",
    "\n",
    "Using the following link, you will get access to a dataset from Kickstarter. The goal of this exercies is to be able to predict as much as possible if a project will get backer's sufficient funding before deadline.\n",
    "Link: https://drive.google.com/file/d/17_mwpPzHlvMIs2n5wOwOV30JfNRnlFCx/view?usp=sharing\n",
    "Using this dataset, please develop a statistical model that predicts which projects will be funded. The exercise is not to obtain the best performance, but more to have a logical and well thought model.\n",
    "The expected output format is a notebook that shows both your code and your thinking process.\n",
    "Note: it is up to to define whether a project has been funded or not, using the data at hand"
   ]
  },
  {
   "cell_type": "code",
   "execution_count": 1,
   "metadata": {},
   "outputs": [],
   "source": [
    "import csv\n",
    "import matplotlib.pyplot as plt\n",
    "import numpy as np\n",
    "from datetime import datetime\n",
    "import time\n",
    "from sklearn.linear_model import LogisticRegression\n",
    "from sklearn.model_selection import train_test_split\n",
    "from sklearn.ensemble import RandomForestClassifier\n",
    "from sklearn.datasets import make_classification\n",
    "from sklearn.preprocessing import LabelEncoder \n",
    "from sklearn.preprocessing import OneHotEncoder\n",
    "from sklearn import preprocessing\n",
    "from sklearn.neural_network import MLPClassifier\n",
    "\n",
    "with open('ks-projects-201612.csv', encoding=\"utf8\", errors='ignore') as file:\n",
    "    reader = csv.reader(file)\n",
    "    data_set = list(reader)\n",
    "data_set = np.array(data_set)"
   ]
  },
  {
   "cell_type": "markdown",
   "metadata": {},
   "source": [
    "**Utils**"
   ]
  },
  {
   "cell_type": "code",
   "execution_count": 2,
   "metadata": {},
   "outputs": [],
   "source": [
    "def isfloat(value):\n",
    "    try:\n",
    "        float(value)\n",
    "        return True\n",
    "    except ValueError:\n",
    "        return False\n",
    "\n",
    "def days_between(d1, d2):\n",
    "    d1 = datetime.strptime(d1, \"%Y-%m-%d %H:%M:%S\")\n",
    "    d2 = datetime.strptime(d2, \"%Y-%m-%d %H:%M:%S\")\n",
    "    return abs((d2 - d1).days)"
   ]
  },
  {
   "cell_type": "code",
   "execution_count": 3,
   "metadata": {},
   "outputs": [
    {
     "name": "stdout",
     "output_type": "stream",
     "text": [
      "['ID ' 'name ' 'category ' 'main_category ' 'currency ' 'deadline '\n",
      " 'goal ' 'launched ' 'pledged ' 'state ' 'backers ' 'country '\n",
      " 'usd pledged ' '' '' '' '']\n",
      "['ID ' 'name ' 'category ' 'main_category ' 'currency ' 'deadline '\n",
      " 'goal ' 'launched ' 'pledged ' 'state ' 'backers ' 'country '\n",
      " 'usd pledged ' '' '' '' '']\n"
     ]
    }
   ],
   "source": [
    "header = data_set[0]\n",
    "data_set = data_set[1:len(data_set)] #data set without the header\n",
    "print(header)"
   ]
  },
  {
   "cell_type": "markdown",
   "metadata": {},
   "source": [
    "Data cleaning \n",
    "--------\n",
    "\n",
    "The first step is to clean the data set:\n",
    "\n",
    "We delete rows \n",
    " - which doesn't match the correct format \n",
    " - which had a goal too hight or too low (here we delete rows where goal value is <20 and >1 000 000)\n",
    " - where the state is different from 'failed' or 'successful'"
   ]
  },
  {
   "cell_type": "code",
   "execution_count": 4,
   "metadata": {},
   "outputs": [
    {
     "name": "stdout",
     "output_type": "stream",
     "text": [
      "temps : 2.1521060466766357\n",
      "temps : 2.1521060466766357\n"
     ]
    }
   ],
   "source": [
    "def clean_data_set(data_set):\n",
    "    ti = time.time()\n",
    "    delete_lines = []\n",
    "    for i in range(len(data_set)):\n",
    "        if isfloat(data_set[i, 6]) == False or data_set[i, 9] not in ['failed', 'successful']:\n",
    "            delete_lines.append(i)\n",
    "        elif float(data_set[i,6]) > 1000000 or float(data_set[i,6])< 20:\n",
    "            delete_lines.append(i)\n",
    "    data_set = np.delete(data_set, (delete_lines), axis=0)\n",
    "    tf = time.time()\n",
    "    print(\"temps : \" + str(tf - ti))\n",
    "    return data_set\n",
    "\n",
    "data_set = clean_data_set(data_set)"
   ]
  },
  {
   "cell_type": "code",
   "execution_count": 5,
   "metadata": {},
   "outputs": [],
   "source": [
    "data_set_size = len(data_set)"
   ]
  },
  {
   "cell_type": "code",
   "execution_count": 6,
   "metadata": {},
   "outputs": [],
   "source": [
    "data_set_output = data_set[:,9]"
   ]
  },
  {
   "cell_type": "code",
   "execution_count": 7,
   "metadata": {},
   "outputs": [
    {
     "data": {
      "text/plain": [
       "['failed', 'successful']"
      ]
     },
     "execution_count": 7,
     "metadata": {},
     "output_type": "execute_result"
    },
    {
     "data": {
      "text/plain": [
       "['failed', 'successful']"
      ]
     },
     "execution_count": 7,
     "metadata": {},
     "output_type": "execute_result"
    }
   ],
   "source": [
    "list_of_output = []\n",
    "for j in range(len(data_set_output)):\n",
    "    if data_set_output[j] not in list_of_output:\n",
    "        list_of_output.append(data_set_output[j])\n",
    "\n",
    "list_of_output"
   ]
  },
  {
   "cell_type": "code",
   "execution_count": 8,
   "metadata": {},
   "outputs": [],
   "source": [
    "def days_between(d1, d2):\n",
    "    d1 = datetime.strptime(d1, \"%Y-%m-%d %H:%M:%S\")\n",
    "    d2 = datetime.strptime(d2, \"%Y-%m-%d %H:%M:%S\")\n",
    "    return abs((d2 - d1).days)"
   ]
  },
  {
   "cell_type": "markdown",
   "metadata": {},
   "source": [
    "Build the input layer\n",
    "---------------------\n",
    "We create two versions of the input layer : \n",
    "   - 1 : Where non numeric inputs are labelencoded (with a value between 0 and 1) \n",
    "   - 2 : Where non numeric inputs are onehotencoded "
   ]
  },
  {
   "cell_type": "code",
   "execution_count": 9,
   "metadata": {},
   "outputs": [],
   "source": [
    "import time\n",
    "def build_input_layer(data_set):\n",
    "    ti = time.time()\n",
    "    goal = np.zeros((len(data_set)))\n",
    "    time_allowed = np.zeros((len(data_set)))\n",
    "    for i in range (len(data_set)):\n",
    "        if isfloat(data_set[i,6]):\n",
    "            time_allowed[i]= days_between(data_set[i][7],data_set[i][5]) #time allowed to get the money\n",
    "            goal[i] = float(data_set[i][6]) #the goal\n",
    "    labelencoder = LabelEncoder() \n",
    "    onehot_encoder = OneHotEncoder(sparse=False)\n",
    "    \n",
    "    #encode category\n",
    "    label_encoded_category=labelencoder.fit_transform(data_set[:,2])\n",
    "    int_encoder = label_encoded_category.reshape(len(data_set[:,2]), 1)\n",
    "    onehot_encoded_category = onehot_encoder.fit_transform(int_encoder)\n",
    "  \n",
    "    #encode main category\n",
    "    label_encoded_main_category=labelencoder.fit_transform(data_set[:,3])\n",
    "    int_encoder = label_encoded_main_category.reshape(len(data_set[:,3]), 1)\n",
    "    onehot_encoded_main_category = onehot_encoder.fit_transform(int_encoder)\n",
    "\n",
    "    #encode country\n",
    "    label_encoded_country=labelencoder.fit_transform(data_set[:,4])\n",
    "    int_encoder = label_encoded_country.reshape(len(data_set[:,4]), 1)\n",
    "    onehot_encoded_country = onehot_encoder.fit_transform(int_encoder)\n",
    "  \n",
    "    print (time_allowed.shape)\n",
    "    print (goal.shape)\n",
    "    print (np.reshape(label_encoded_category,(len(data_set),1)).shape)\n",
    "    print (label_encoded_main_category.shape)\n",
    "    print (label_encoded_country.shape)\n",
    "    \n",
    "    print (onehot_encoded_category.shape)\n",
    "    print (onehot_encoded_main_category.shape)\n",
    "    print (onehot_encoded_country.shape)\n",
    "    \n",
    "    #concatenate values label\n",
    "    input_data_set_label_encoded = np.concatenate((np.reshape(time_allowed,(len(data_set),1)),\n",
    "                                                    np.reshape(goal,(len(data_set),1)),\n",
    "                                                    np.reshape(label_encoded_category,(len(data_set),1)),\n",
    "                                                    np.reshape(label_encoded_main_category,(len(data_set),1)),\n",
    "                                                    np.reshape(label_encoded_country,(len(data_set),1))),axis=1)\n",
    "\n",
    "\n",
    "    #concatenate values onehot\n",
    "    input_data_set_one_hot_encoded = np.concatenate((np.reshape(time_allowed,(len(data_set[:,0]),1))\n",
    "                                                    ,np.reshape(goal,(len(data_set[:,1]),1)),\n",
    "                                                    onehot_encoded_category, onehot_encoded_main_category,\n",
    "                                                    onehot_encoded_country),axis=1)\n",
    "    \n",
    "    tf = time.time()\n",
    "    print(\"temps : \" +str(tf-ti))\n",
    "    return input_data_set_label_encoded, input_data_set_one_hot_encoded"
   ]
  },
  {
   "cell_type": "code",
   "execution_count": 10,
   "metadata": {
    "scrolled": false
   },
   "outputs": [
    {
     "name": "stderr",
     "output_type": "stream",
     "text": [
      "/anaconda3/envs/env_tensorflow/lib/python3.6/site-packages/sklearn/preprocessing/_encoders.py:368: FutureWarning: The handling of integer data will change in version 0.22. Currently, the categories are determined based on the range [0, max(values)], while in the future they will be determined based on the unique values.\n",
      "If you want the future behaviour and silence this warning, you can specify \"categories='auto'\".\n",
      "In case you used a LabelEncoder before this OneHotEncoder to convert the categories to integers, then you can now use the OneHotEncoder directly.\n",
      "  warnings.warn(msg, FutureWarning)\n",
      "/anaconda3/envs/env_tensorflow/lib/python3.6/site-packages/sklearn/preprocessing/_encoders.py:368: FutureWarning: The handling of integer data will change in version 0.22. Currently, the categories are determined based on the range [0, max(values)], while in the future they will be determined based on the unique values.\n",
      "If you want the future behaviour and silence this warning, you can specify \"categories='auto'\".\n",
      "In case you used a LabelEncoder before this OneHotEncoder to convert the categories to integers, then you can now use the OneHotEncoder directly.\n",
      "  warnings.warn(msg, FutureWarning)\n",
      "/anaconda3/envs/env_tensorflow/lib/python3.6/site-packages/sklearn/preprocessing/_encoders.py:368: FutureWarning: The handling of integer data will change in version 0.22. Currently, the categories are determined based on the range [0, max(values)], while in the future they will be determined based on the unique values.\n",
      "If you want the future behaviour and silence this warning, you can specify \"categories='auto'\".\n",
      "In case you used a LabelEncoder before this OneHotEncoder to convert the categories to integers, then you can now use the OneHotEncoder directly.\n",
      "  warnings.warn(msg, FutureWarning)\n",
      "/anaconda3/envs/env_tensorflow/lib/python3.6/site-packages/sklearn/preprocessing/_encoders.py:368: FutureWarning: The handling of integer data will change in version 0.22. Currently, the categories are determined based on the range [0, max(values)], while in the future they will be determined based on the unique values.\n",
      "If you want the future behaviour and silence this warning, you can specify \"categories='auto'\".\n",
      "In case you used a LabelEncoder before this OneHotEncoder to convert the categories to integers, then you can now use the OneHotEncoder directly.\n",
      "  warnings.warn(msg, FutureWarning)\n",
      "/anaconda3/envs/env_tensorflow/lib/python3.6/site-packages/sklearn/preprocessing/_encoders.py:368: FutureWarning: The handling of integer data will change in version 0.22. Currently, the categories are determined based on the range [0, max(values)], while in the future they will be determined based on the unique values.\n",
      "If you want the future behaviour and silence this warning, you can specify \"categories='auto'\".\n",
      "In case you used a LabelEncoder before this OneHotEncoder to convert the categories to integers, then you can now use the OneHotEncoder directly.\n",
      "  warnings.warn(msg, FutureWarning)\n",
      "/anaconda3/envs/env_tensorflow/lib/python3.6/site-packages/sklearn/preprocessing/_encoders.py:368: FutureWarning: The handling of integer data will change in version 0.22. Currently, the categories are determined based on the range [0, max(values)], while in the future they will be determined based on the unique values.\n",
      "If you want the future behaviour and silence this warning, you can specify \"categories='auto'\".\n",
      "In case you used a LabelEncoder before this OneHotEncoder to convert the categories to integers, then you can now use the OneHotEncoder directly.\n",
      "  warnings.warn(msg, FutureWarning)\n"
     ]
    },
    {
     "name": "stdout",
     "output_type": "stream",
     "text": [
      "(279481,)\n",
      "(279481,)\n",
      "(279481, 1)\n",
      "(279481,)\n",
      "(279481,)\n",
      "(279481, 158)\n",
      "(279481, 15)\n",
      "(279481, 13)\n",
      "(279481,)\n",
      "(279481,)\n",
      "(279481, 1)\n",
      "(279481,)\n",
      "(279481,)\n",
      "(279481, 158)\n",
      "(279481, 15)\n",
      "(279481, 13)\n",
      "temps : 10.592612981796265\n",
      "(279481, 188)\n",
      "(279481, 5)\n",
      "temps : 10.592612981796265\n",
      "(279481, 188)\n",
      "(279481, 5)\n"
     ]
    }
   ],
   "source": [
    "input_data, input_data_one_hot_encoded = build_input_layer(data_set)\n",
    "print (input_data_one_hot_encoded.shape)\n",
    "print(input_data.shape)"
   ]
  },
  {
   "cell_type": "code",
   "execution_count": 11,
   "metadata": {},
   "outputs": [
    {
     "data": {
      "text/plain": [
       "19511.754124788444"
      ]
     },
     "execution_count": 11,
     "metadata": {},
     "output_type": "execute_result"
    },
    {
     "data": {
      "text/plain": [
       "19511.754124788444"
      ]
     },
     "execution_count": 11,
     "metadata": {},
     "output_type": "execute_result"
    },
    {
     "data": {
      "image/png": "[encoded data removed]",
      "text/plain": [
       "<Figure size 432x288 with 1 Axes>"
      ]
     },
     "metadata": {
      "needs_background": "light"
     },
     "output_type": "display_data"
    },
    {
     "data": {
      "image/png": "[encoded data removed]",
      "text/plain": [
       "<Figure size 432x288 with 1 Axes>"
      ]
     },
     "metadata": {
      "needs_background": "light"
     },
     "output_type": "display_data"
    }
   ],
   "source": [
    "plt.plot(input_data[:,1])\n",
    "np.mean(input_data[:,1])"
   ]
  },
  {
   "cell_type": "code",
   "execution_count": 12,
   "metadata": {},
   "outputs": [],
   "source": [
    "#normalize the input_data\n",
    "#max date time\n",
    "max_date = max(input_data[:,0])\n",
    "#max goal \n",
    "max_goal =max(input_data[:,1])\n",
    "#max main categorie\n",
    "max_categorie = max(input_data[:,2])\n",
    "#max categorie\n",
    "max_main_categorie = max(input_data[:,3])\n",
    "#max country\n",
    "max_country = max(input_data[:,3])\n",
    "#max currency\n",
    "#max_currency = max(input_data[:,5])"
   ]
  },
  {
   "cell_type": "code",
   "execution_count": 13,
   "metadata": {},
   "outputs": [],
   "source": [
    "def normalize_input_data(input_data):\n",
    "    input_data[:,0] = np.divide(input_data[:,0],max_date)#*100\n",
    "    input_data[:,1] = np.divide(input_data[:,1],max_goal)#*100\n",
    "    input_data[:,2] = np.divide(input_data[:,2],max_categorie)#*100\n",
    "    input_data[:,3] = np.divide(input_data[:,3],max_main_categorie)\n",
    "    input_data[:,4] = np.divide(input_data[:,3],max_country)#*100\n",
    "    #input_data[:,5] = np.divide(input_data[:,5],max_currency)\n",
    "    \n",
    "    return input_data\n",
    "\n",
    "input_data = normalize_input_data(input_data)"
   ]
  },
  {
   "cell_type": "code",
   "execution_count": 14,
   "metadata": {},
   "outputs": [],
   "source": [
    "def normalize_input_data_one_hot(input_data):\n",
    "    input_data[:,0] = np.divide(input_data[:,0],max_date)#*100\n",
    "    input_data[:,1] = np.divide(input_data[:,1],max_goal)#*100\n",
    "    return input_data\n",
    "input_data_one_hot_encoded = normalize_input_data_one_hot(input_data_one_hot_encoded)"
   ]
  },
  {
   "cell_type": "code",
   "execution_count": 15,
   "metadata": {},
   "outputs": [],
   "source": [
    "def build_target_layer(data_set):\n",
    "    target_data = np.zeros(len(data_set))\n",
    "    for i in range (len(data_set)):\n",
    "        if data_set[i,9]=='failed':\n",
    "            target_data[i] = 0\n",
    "        else :\n",
    "            target_data[i]= 1\n",
    "    return target_data\n",
    "target_data = build_target_layer(data_set)"
   ]
  },
  {
   "cell_type": "markdown",
   "metadata": {},
   "source": [
    "Split the data set\n",
    "----\n",
    "\n",
    "We split the data set in two parts : \n",
    "   - train_data_set\n",
    "   - test_data_set"
   ]
  },
  {
   "cell_type": "code",
   "execution_count": 16,
   "metadata": {},
   "outputs": [],
   "source": [
    "train_data_set_size = 200000\n",
    "test_data_set_size = 50000\n",
    "train_input_data = input_data[0:train_data_set_size]\n",
    "test_input_data = input_data[train_data_set_size + 1 : train_data_set_size + test_data_set_size]\n",
    "\n",
    "train_target_data = target_data[0:train_data_set_size]\n",
    "test_target_data = target_data[train_data_set_size + 1 : train_data_set_size + test_data_set_size]"
   ]
  },
  {
   "cell_type": "code",
   "execution_count": 17,
   "metadata": {},
   "outputs": [],
   "source": [
    "train_input_data_one_hot_encoded = input_data_one_hot_encoded[0:train_data_set_size]\n",
    "test_input_data_one_hot_encoded = input_data_one_hot_encoded[train_data_set_size + 1 : train_data_set_size + test_data_set_size]"
   ]
  },
  {
   "cell_type": "markdown",
   "metadata": {},
   "source": [
    "Logistic regression, random forest and neural network with label encoded : \n",
    "----"
   ]
  },
  {
   "cell_type": "code",
   "execution_count": 18,
   "metadata": {},
   "outputs": [
    {
     "name": "stderr",
     "output_type": "stream",
     "text": [
      "/anaconda3/envs/env_tensorflow/lib/python3.6/site-packages/sklearn/linear_model/logistic.py:433: FutureWarning: Default solver will be changed to 'lbfgs' in 0.22. Specify a solver to silence this warning.\n",
      "  FutureWarning)\n",
      "/anaconda3/envs/env_tensorflow/lib/python3.6/site-packages/sklearn/linear_model/logistic.py:433: FutureWarning: Default solver will be changed to 'lbfgs' in 0.22. Specify a solver to silence this warning.\n",
      "  FutureWarning)\n"
     ]
    },
    {
     "name": "stdout",
     "output_type": "stream",
     "text": [
      "Accuracy with logistic regression 61.041220824416484 %\n",
      "Accuracy with logistic regression 61.041220824416484 %\n"
     ]
    }
   ],
   "source": [
    "#Logistic regression\n",
    "log_reg = LogisticRegression()\n",
    "log_reg.fit(train_input_data,train_target_data)\n",
    "print(\"Accuracy with logistic regression \" + str(log_reg.score(test_input_data,test_target_data)*100) + \" %\")"
   ]
  },
  {
   "cell_type": "code",
   "execution_count": null,
   "metadata": {},
   "outputs": [
    {
     "name": "stdout",
     "output_type": "stream",
     "text": [
      "Accuracy with random forest regression 64.50129002580051 %\n",
      "Accuracy with random forest regression 64.50129002580051 %\n"
     ]
    }
   ],
   "source": [
    "#Random forest\n",
    "rdf = RandomForestClassifier(n_estimators=200)\n",
    "rdf.fit(train_input_data,train_target_data)\n",
    "print(\"Accuracy with random forest regression \" + str(rdf.score(test_input_data,test_target_data)*100) + \" %\")"
   ]
  },
  {
   "cell_type": "code",
   "execution_count": null,
   "metadata": {},
   "outputs": [],
   "source": [
    "#Neural network\n",
    "clf = MLPClassifier(solver='lbfgs', alpha=1e-05,\n",
    "                     hidden_layer_sizes=(30, 10), random_state=1, learning_rate_init=0.1)\n",
    "clf.fit(train_input_data, train_target_data)\n",
    "print(\"Accuracy with neural network \" +str(clf.score(test_input_data,test_target_data)*100) + \" %\")"
   ]
  },
  {
   "cell_type": "markdown",
   "metadata": {},
   "source": [
    "Logistic regression, random forest and neural network with one hot encoded input :\n",
    "---"
   ]
  },
  {
   "cell_type": "code",
   "execution_count": null,
   "metadata": {
    "scrolled": false
   },
   "outputs": [],
   "source": [
    "log_reg = LogisticRegression()\n",
    "log_reg.fit(train_input_data_one_hot_encoded,train_target_data)\n",
    "print(\"Accuracy with logistic regression \" + str(log_reg.score(test_input_data_one_hot_encoded,test_target_data)*100) + \" %\")"
   ]
  },
  {
   "cell_type": "code",
   "execution_count": null,
   "metadata": {
    "scrolled": true
   },
   "outputs": [],
   "source": [
    "clf = MLPClassifier(solver='lbfgs', alpha=1e-05,\n",
    "                     hidden_layer_sizes=(30, 10), random_state=1)\n",
    "clf.fit(train_input_data_one_hot_encoded, train_target_data)  \n",
    "print(\"Accuracy with neural network \" +str(clf.score(test_input_data_one_hot_encoded,test_target_data)*100) + \" %\")"
   ]
  },
  {
   "cell_type": "code",
   "execution_count": null,
   "metadata": {
    "scrolled": true
   },
   "outputs": [],
   "source": [
    "rdf = RandomForestClassifier(n_estimators=200)\n",
    "rdf.fit(train_input_data_one_hot_encoded,train_target_data)\n",
    "print(\"Accuracy with random forest \"+ str(rdf.score(test_input_data_one_hot_encoded,test_target_data)*100) + \" %\")"
   ]
  },
  {
   "cell_type": "code",
   "execution_count": null,
   "metadata": {},
   "outputs": [],
   "source": []
  },
  {
   "cell_type": "code",
   "execution_count": null,
   "metadata": {},
   "outputs": [],
   "source": [
    " "
   ]
  }
 ],
 "metadata": {
  "kernelspec": {
   "display_name": "Python 3",
   "language": "python",
   "name": "python3"
  },
  "language_info": {
   "codemirror_mode": {
    "name": "ipython",
    "version": 3
   },
   "file_extension": ".py",
   "mimetype": "text/x-python",
   "name": "python",
   "nbconvert_exporter": "python",
   "pygments_lexer": "ipython3",
   "version": "3.6.8"
  }
 },
 "nbformat": 4,
 "nbformat_minor": 2
}
