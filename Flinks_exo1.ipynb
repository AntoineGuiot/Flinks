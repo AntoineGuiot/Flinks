{
 "cells": [
  {
   "cell_type": "markdown",
   "metadata": {},
   "source": []
  },
  {
   "cell_type": "code",
   "execution_count": 1,
   "metadata": {},
   "outputs": [],
   "source": [
    "import csv\n",
    "import matplotlib.pyplot as plt\n",
    "import numpy as np\n",
    "import tensorflow as tf\n",
    "from datetime import datetime\n",
    "import time\n",
    "\n",
    "config = tf.ConfigProto()\n",
    "config.gpu_options.allow_growth = True\n",
    "with open('ks-projects-201612.csv', encoding=\"utf8\", errors='ignore') as file:\n",
    "    reader = csv.reader(file)\n",
    "    data_set = list(reader)\n",
    "data_set = np.array(data_set)\n"
   ]
  },
  {
   "cell_type": "code",
   "execution_count": 2,
   "metadata": {},
   "outputs": [
    {
     "data": {
      "text/plain": [
       "array([['ID ', 'name ', 'category ', ..., '', '', ''],\n",
       "       ['1000002330', 'The Songs of Adelaide & Abullah', 'Poetry', ...,\n",
       "        '', '', ''],\n",
       "       ['1000004038', 'Where is Hank?', 'Narrative Film', ..., '', '',\n",
       "        ''],\n",
       "       ...,\n",
       "       ['999986353',\n",
       "        'Walls of Remedy- New lesbian Romantic Comedy feature unlike any other!!',\n",
       "        'Narrative Film', ..., '', '', ''],\n",
       "       ['999987933', 'BioDefense Education Kit', 'Technology', ..., '',\n",
       "        '', ''],\n",
       "       ['999988282', 'Nou Renmen Ayiti!  We Love Haiti!',\n",
       "        'Performance Art', ..., '', '', '']], dtype='<U96')"
      ]
     },
     "execution_count": 2,
     "metadata": {},
     "output_type": "execute_result"
    }
   ],
   "source": [
    "data_set"
   ]
  },
  {
   "cell_type": "code",
   "execution_count": 115,
   "metadata": {},
   "outputs": [],
   "source": [
    "#utils\n",
    "def isfloat(value):\n",
    "    try:\n",
    "        float(value)\n",
    "        return True\n",
    "    except ValueError:\n",
    "        return False\n",
    "\n",
    "def sigmoid(x):\n",
    "    return (1 / (1 + np.exp(-x)))"
   ]
  },
  {
   "cell_type": "code",
   "execution_count": 116,
   "metadata": {},
   "outputs": [],
   "source": [
    "header = data_set[0]\n",
    "data_set = data_set[1:len(data_set)] #data set without the header"
   ]
  },
  {
   "cell_type": "code",
   "execution_count": 117,
   "metadata": {},
   "outputs": [
    {
     "name": "stdout",
     "output_type": "stream",
     "text": [
      "5.840063095092773\n"
     ]
    }
   ],
   "source": [
    "def clean_data_set(data_set):\n",
    "    ti = time.time()\n",
    "    delete_lines = []\n",
    "    for i in range(len(data_set)):\n",
    "        if isfloat(data_set[i, 6]) == False or data_set[i, 9] not in ['failed', 'successful']:\n",
    "            delete_lines.append(i)\n",
    "        elif float(data_set[i,6]) > 10000000 or float(data_set[i,6])< 20:\n",
    "            delete_lines.append(i)\n",
    "    data_set = np.delete(data_set, (delete_lines), axis=0)\n",
    "    tf = time.time()\n",
    "    print(tf - ti)\n",
    "    return data_set\n",
    "\n",
    "data_set = clean_data_set(data_set)"
   ]
  },
  {
   "cell_type": "code",
   "execution_count": 118,
   "metadata": {},
   "outputs": [
    {
     "data": {
      "text/plain": [
       "280099"
      ]
     },
     "execution_count": 118,
     "metadata": {},
     "output_type": "execute_result"
    }
   ],
   "source": [
    "data_set_size = len(data_set)\n",
    "data_set_size"
   ]
  },
  {
   "cell_type": "code",
   "execution_count": 119,
   "metadata": {},
   "outputs": [
    {
     "name": "stdout",
     "output_type": "stream",
     "text": [
      "Publishing\n",
      "Poetry\n"
     ]
    }
   ],
   "source": [
    "print(header[3])\n",
    "print(header[2])"
   ]
  },
  {
   "cell_type": "code",
   "execution_count": 120,
   "metadata": {},
   "outputs": [
    {
     "data": {
      "text/plain": [
       "array(['failed', 'failed', 'successful', ..., 'failed', 'failed',\n",
       "       'failed'], dtype='<U96')"
      ]
     },
     "execution_count": 120,
     "metadata": {},
     "output_type": "execute_result"
    }
   ],
   "source": [
    "data_set_output = data_set[:,9]\n",
    "data_set_output"
   ]
  },
  {
   "cell_type": "code",
   "execution_count": 121,
   "metadata": {},
   "outputs": [
    {
     "data": {
      "text/plain": [
       "['failed', 'successful']"
      ]
     },
     "execution_count": 121,
     "metadata": {},
     "output_type": "execute_result"
    }
   ],
   "source": [
    "list_of_output = []\n",
    "for j in range(len(data_set_output)):\n",
    "    if data_set_output[j] not in list_of_output:\n",
    "        list_of_output.append(data_set_output[j])\n",
    "\n",
    "list_of_output"
   ]
  },
  {
   "cell_type": "code",
   "execution_count": 122,
   "metadata": {},
   "outputs": [
    {
     "data": {
      "text/plain": [
       "array(['Narrative Film', 'Music', 'Restaurants', ..., 'Narrative Film',\n",
       "       'Technology', 'Performance Art'], dtype='<U96')"
      ]
     },
     "execution_count": 122,
     "metadata": {},
     "output_type": "execute_result"
    }
   ],
   "source": [
    "data_set_category = data_set[:,2]\n",
    "data_set_category"
   ]
  },
  {
   "cell_type": "code",
   "execution_count": 123,
   "metadata": {
    "scrolled": true
   },
   "outputs": [
    {
     "data": {
      "text/plain": [
       "158"
      ]
     },
     "execution_count": 123,
     "metadata": {},
     "output_type": "execute_result"
    }
   ],
   "source": [
    "list_of_categorie =[]\n",
    "for j in range (len(data_set_category)):\n",
    "    if data_set_category[j] not in list_of_categorie:\n",
    "        list_of_categorie.append(data_set_category[j])\n",
    "\n",
    "len(list_of_categorie)"
   ]
  },
  {
   "cell_type": "code",
   "execution_count": 12,
   "metadata": {},
   "outputs": [
    {
     "data": {
      "text/plain": [
       "array(['Publishing', 'Film & Video', 'Music', ..., 'Film & Video',\n",
       "       'Technology', 'Art'], dtype='<U96')"
      ]
     },
     "execution_count": 12,
     "metadata": {},
     "output_type": "execute_result"
    }
   ],
   "source": [
    "data_set_main_category = data_set[:,3]\n",
    "data_set_main_category"
   ]
  },
  {
   "cell_type": "code",
   "execution_count": 13,
   "metadata": {},
   "outputs": [
    {
     "data": {
      "text/plain": [
       "15"
      ]
     },
     "execution_count": 13,
     "metadata": {},
     "output_type": "execute_result"
    }
   ],
   "source": [
    "list_of_main_categorie =[]\n",
    "for j in range (len(data_set_category)):\n",
    "    if data_set_main_category[j] not in list_of_main_categorie:\n",
    "        list_of_main_categorie.append(data_set_main_category[j])\n",
    "\n",
    "len(list_of_main_categorie)"
   ]
  },
  {
   "cell_type": "code",
   "execution_count": 14,
   "metadata": {},
   "outputs": [
    {
     "data": {
      "text/plain": [
       "array(['GBP', 'USD', 'USD', ..., 'USD', 'USD', 'USD'], dtype='<U96')"
      ]
     },
     "execution_count": 14,
     "metadata": {},
     "output_type": "execute_result"
    }
   ],
   "source": [
    "data_set_currency = data_set[:,4]\n",
    "data_set_currency"
   ]
  },
  {
   "cell_type": "code",
   "execution_count": 15,
   "metadata": {},
   "outputs": [
    {
     "data": {
      "text/plain": [
       "13"
      ]
     },
     "execution_count": 15,
     "metadata": {},
     "output_type": "execute_result"
    }
   ],
   "source": [
    "list_of_currency =[]\n",
    "for j in range (len(data_set_currency)):\n",
    "    if data_set_currency[j] not in list_of_currency:\n",
    "        list_of_currency.append(data_set_currency[j])\n",
    "\n",
    "len(list_of_currency)"
   ]
  },
  {
   "cell_type": "code",
   "execution_count": 16,
   "metadata": {},
   "outputs": [
    {
     "data": {
      "text/plain": [
       "array(['GB', 'US', 'US', ..., 'US', 'US', 'US'], dtype='<U96')"
      ]
     },
     "execution_count": 16,
     "metadata": {},
     "output_type": "execute_result"
    }
   ],
   "source": [
    "data_set_country = data_set[:,11]\n",
    "data_set_country"
   ]
  },
  {
   "cell_type": "code",
   "execution_count": 17,
   "metadata": {},
   "outputs": [
    {
     "data": {
      "text/plain": [
       "22"
      ]
     },
     "execution_count": 17,
     "metadata": {},
     "output_type": "execute_result"
    }
   ],
   "source": [
    "list_of_country =[]\n",
    "for j in range (len(data_set_country)):\n",
    "    if data_set_country[j] not in list_of_country:\n",
    "        list_of_country.append(data_set_country[j])\n",
    "\n",
    "len(list_of_country)"
   ]
  },
  {
   "cell_type": "code",
   "execution_count": 18,
   "metadata": {},
   "outputs": [],
   "source": [
    "def days_between(d1, d2):\n",
    "    d1 = datetime.strptime(d1, \"%Y-%m-%d %H:%M:%S\")\n",
    "    d2 = datetime.strptime(d2, \"%Y-%m-%d %H:%M:%S\")\n",
    "    return abs((d2 - d1).days)"
   ]
  },
  {
   "cell_type": "code",
   "execution_count": 19,
   "metadata": {},
   "outputs": [
    {
     "data": {
      "text/plain": [
       "array(['ID ', 'name ', 'category ', 'main_category ', 'currency ',\n",
       "       'deadline ', 'goal ', 'launched ', 'pledged ', 'state ',\n",
       "       'backers ', 'country ', 'usd pledged ', '', '', '', ''],\n",
       "      dtype='<U96')"
      ]
     },
     "execution_count": 19,
     "metadata": {},
     "output_type": "execute_result"
    }
   ],
   "source": [
    "header"
   ]
  },
  {
   "cell_type": "code",
   "execution_count": 20,
   "metadata": {},
   "outputs": [],
   "source": [
    "import time\n",
    "def build_input_layer(data_set):\n",
    "    ti = time.time()\n",
    "    input_data_set = np.zeros((len(data_set),4))\n",
    "    for i in range (len(data_set)):\n",
    "        if isfloat(data_set[i,6]):\n",
    "            input_data_set[i,0] = days_between(data_set[i][7],data_set[i][5]) #time allowed to get the money\n",
    "            input_data_set[i,1] = float(data_set[i][6]) #the goal\n",
    "            input_data_set[i,2] = list_of_main_categorie.index(data_set[i][3]) #the main categorie is now encoding with a number beetween 0 and 120\n",
    "            #input_data_set[i,3] = list_of_categorie.index(data_set[i][2]) #the categorie is now encoding with a number\n",
    "            input_data_set[i,3] = list_of_country.index(data_set[i][11]) # the country encoding with a number\n",
    "            #input_data_set[i,5] = list_of_currency.index(data_set[i][4]) # the currency encoding with a number\n",
    "    tf = time.time()\n",
    "    print(\"temps : \" +str(tf-ti))\n",
    "    return input_data_set   "
   ]
  },
  {
   "cell_type": "code",
   "execution_count": 21,
   "metadata": {},
   "outputs": [
    {
     "name": "stdout",
     "output_type": "stream",
     "text": [
      "temps : 9.55872392654419\n"
     ]
    }
   ],
   "source": [
    "input_data = build_input_layer(data_set)"
   ]
  },
  {
   "cell_type": "code",
   "execution_count": 22,
   "metadata": {},
   "outputs": [
    {
     "data": {
      "text/plain": [
       "26620.387152445557"
      ]
     },
     "execution_count": 22,
     "metadata": {},
     "output_type": "execute_result"
    },
    {
     "data": {
      "image/png": "[encoded data removed]",
      "text/plain": [
       "<Figure size 432x288 with 1 Axes>"
      ]
     },
     "metadata": {
      "needs_background": "light"
     },
     "output_type": "display_data"
    }
   ],
   "source": [
    "plt.plot(input_data[:,1])\n",
    "np.mean(input_data[:,1])"
   ]
  },
  {
   "cell_type": "code",
   "execution_count": 23,
   "metadata": {},
   "outputs": [],
   "source": [
    "#normalize the input_data\n",
    "#max date time\n",
    "max_date = max(input_data[:,0])\n",
    "#max goal \n",
    "max_goal =max(input_data[:,1])\n",
    "#max main categorie\n",
    "max_main_categorie = max(input_data[:,2])\n",
    "#max categorie\n",
    "#max_categorie = max(input_data[:,3])\n",
    "#max country\n",
    "max_country = max(input_data[:,3])\n",
    "#max currency\n",
    "#max_currency = max(input_data[:,5])\n",
    "\n",
    "def normalize_input_data(input_data):\n",
    "    input_data[:,0] = np.divide(input_data[:,0],max_date)*100\n",
    "    input_data[:,1] = np.divide(input_data[:,1],max_goal)*100\n",
    "    input_data[:,2] = np.divide(input_data[:,2],max_main_categorie)*100\n",
    "    #input_data[:,3] = np.divide(input_data[:,3],max_categorie)\n",
    "    input_data[:,3] = np.divide(input_data[:,3],max_country)*100\n",
    "    #input_data[:,5] = np.divide(input_data[:,5],max_currency)\n",
    "    \n",
    "    return input_data\n",
    "\n",
    "input_data = normalize_input_data(input_data)"
   ]
  },
  {
   "cell_type": "code",
   "execution_count": 24,
   "metadata": {},
   "outputs": [],
   "source": [
    "def build_target_layer(data_set):\n",
    "    target_data = np.zeros(len(data_set))\n",
    "    for i in range (len(data_set)):\n",
    "        if data_set[i,9]=='failed':\n",
    "            target_data[i] = 0\n",
    "        else :\n",
    "            target_data[i]= 1\n",
    "    return target_data\n",
    "target_data = build_target_layer(data_set)"
   ]
  },
  {
   "cell_type": "code",
   "execution_count": 25,
   "metadata": {},
   "outputs": [
    {
     "name": "stdout",
     "output_type": "stream",
     "text": [
      "280100\n",
      "280100\n"
     ]
    },
    {
     "data": {
      "text/plain": [
       "0.26620387152445557"
      ]
     },
     "execution_count": 25,
     "metadata": {},
     "output_type": "execute_result"
    }
   ],
   "source": [
    "print (len(target_data))\n",
    "print (len(input_data))\n",
    "np.mean(input_data[:,1])"
   ]
  },
  {
   "cell_type": "code",
   "execution_count": 26,
   "metadata": {},
   "outputs": [],
   "source": [
    "train_data_set_size = 100000\n",
    "test_data_set_size = 50000\n",
    "train_input_data = input_data[0:train_data_set_size]\n",
    "test_input_data = input_data[train_data_set_size + 1 : train_data_set_size + test_data_set_size]\n",
    "\n",
    "train_target_data = target_data[0:train_data_set_size]\n",
    "test_target_data = target_data[train_data_set_size + 1 : train_data_set_size + test_data_set_size]"
   ]
  },
  {
   "cell_type": "code",
   "execution_count": null,
   "metadata": {},
   "outputs": [],
   "source": [
    "#build the model in tensorflow\n",
    "# Graph Inputs\n",
    "tf_features = tf.placeholder(tf.float32, [None, 6])\n",
    "tf_targets = tf.placeholder(tf.float32, [None, 1])\n",
    "\n",
    "#softmax_input = tf.nn.softmax(tf_features)\n",
    "\n",
    "# Variables 1 layer\n",
    "w1 = tf.Variable(tf.random_normal([6, 100]))\n",
    "b1 = tf.Variable(tf.zeros([100]))\n",
    "\n",
    "#  Operations 1\n",
    "z1 = tf.matmul(tf_features, w1) + b1\n",
    "sigmoid1 = tf.math.sigmoid(z1)\n",
    "\n",
    "#Variable 2 layer\n",
    "\n",
    "w2 = tf.Variable(tf.random_normal([100, 1]))\n",
    "b2 = tf.Variable(tf.random_normal([1]))\n",
    "\n",
    "# Operation 2\n",
    "z2 = tf.matmul(sigmoid1, w2) + b2\n",
    "sigmoid2 = tf.nn.sigmoid(z2)\n",
    "\n",
    "# Error + Train\n",
    "error = tf.nn.softmax_cross_entropy_with_logits(labels=tf_targets, logits=sigmoid2)\n",
    "#error = tf.math.abs(tf_targets - softmax2)\n",
    "train = tf.train.GradientDescentOptimizer(0.5).minimize(error)\n",
    "\n",
    "# Metrics: Accuracy\n",
    "# correct_prediction = tf.equal(tf.argmax(softmax1, 1), tf.argmax(tf_targets, 1))\n",
    "# accuracy = tf.reduce_mean(tf.cast(correct_prediction, tf.float32))"
   ]
  },
  {
   "cell_type": "code",
   "execution_count": null,
   "metadata": {},
   "outputs": [],
   "source": [
    "with tf.Session() as sess:\n",
    "    sess.run(tf.global_variables_initializer())\n",
    "    test = np.random.rand(10, 6)\n",
    "    # Train the model\n",
    "    epochs = 10\n",
    "    for e in range(epochs):\n",
    "        batch_features, batch_targets = train_input_data[0:10], np.reshape(train_target_data[0: 10],(10,1))\n",
    "        _, error_, z1_ = sess.run([train, error, z1], \n",
    "            feed_dict={\n",
    "            tf_features: batch_features,\n",
    "            tf_targets: batch_targets})\n",
    "        #print(\"error = \"+str(error_))\n",
    "        print(\"z1 = \"+str(z1_))\n",
    "        print(\"softmax_1 = \"+ str(softmax1_))"
   ]
  },
  {
   "cell_type": "code",
   "execution_count": null,
   "metadata": {},
   "outputs": [],
   "source": [
    "np.shape(np.reshape(train_target_data, (len(train_target_data),1)))"
   ]
  },
  {
   "cell_type": "code",
   "execution_count": 97,
   "metadata": {},
   "outputs": [],
   "source": [
    "n_x = 4\n",
    "n_h = 1\n",
    "n_y = 1"
   ]
  },
  {
   "cell_type": "code",
   "execution_count": 98,
   "metadata": {},
   "outputs": [],
   "source": [
    "def initialize_parameters(n_x, n_h, n_y):\n",
    "    \"\"\"\n",
    "    Argument:\n",
    "    n_x -- size of the input layer\n",
    "    n_h -- size of the hidden layer\n",
    "    n_y -- size of the output layer\n",
    "    \n",
    "    Returns:\n",
    "    params -- python dictionary containing your parameters:\n",
    "                    W1 -- weight matrix of shape (n_h, n_x)\n",
    "                    b1 -- bias vector of shape (n_h, 1)\n",
    "                    W2 -- weight matrix of shape (n_y, n_h)\n",
    "                    b2 -- bias vector of shape (n_y, 1)\n",
    "    \"\"\"\n",
    "    \n",
    "    np.random.seed(2) # we set up a seed so that your output matches ours although the initialization is random.\n",
    "    \n",
    "    ### START CODE HERE ### (≈ 4 lines of code)\n",
    "    W1 = np.random.randn(n_h, n_x) \n",
    "    b1 = np.zeros(shape=(n_h, 1))\n",
    "    W2 = np.random.randn(n_y, n_h) \n",
    "    b2 = np.zeros(shape=(n_y, 1))\n",
    "    ### END CODE HERE ###\n",
    "    \n",
    "    assert (W1.shape == (n_h, n_x))\n",
    "    assert (b1.shape == (n_h, 1))\n",
    "    assert (W2.shape == (n_y, n_h))\n",
    "    assert (b2.shape == (n_y, 1))\n",
    "    \n",
    "    parameters = {\"W1\": W1,\n",
    "                  \"b1\": b1,\n",
    "                  \"W2\": W2,\n",
    "                  \"b2\": b2}\n",
    "    \n",
    "    return parameters"
   ]
  },
  {
   "cell_type": "code",
   "execution_count": 99,
   "metadata": {},
   "outputs": [],
   "source": [
    "def forward_propagation(X, parameters):\n",
    "    \"\"\"\n",
    "    Argument:\n",
    "    X -- input data of size (n_x, m)\n",
    "    parameters -- python dictionary containing your parameters (output of initialization function)\n",
    "    \n",
    "    Returns:\n",
    "    A2 -- The sigmoid output of the second activation\n",
    "    cache -- a dictionary containing \"Z1\", \"A1\", \"Z2\" and \"A2\"\n",
    "    \"\"\"\n",
    "    # Retrieve each parameter from the dictionary \"parameters\"\n",
    "    ### START CODE HERE ### (≈ 4 lines of code)\n",
    "    W1 = parameters['W1']\n",
    "    b1 = parameters['b1']\n",
    "    W2 = parameters['W2']\n",
    "    b2 = parameters['b2']\n",
    "    ### END CODE HERE ###\n",
    "    \n",
    "    # Implement Forward Propagation to calculate A2 (probabilities)\n",
    "    ### START CODE HERE ### (≈ 4 lines of code)\n",
    "    Z1 = np.dot(W1, X) + b1\n",
    "    A1 = np.tanh(Z1)\n",
    "    Z2 = np.dot(W2, A1) + b2\n",
    "    A2 = sigmoid(Z2)\n",
    "    ### END CODE HERE ###\n",
    "    \n",
    "    assert(A2.shape == (1, X.shape[1]))\n",
    "    \n",
    "    cache = {\"Z1\": Z1,\n",
    "             \"A1\": A1,\n",
    "             \"Z2\": Z2,\n",
    "             \"A2\": A2}\n",
    "    \n",
    "    return A2, cache"
   ]
  },
  {
   "cell_type": "code",
   "execution_count": 100,
   "metadata": {},
   "outputs": [],
   "source": [
    "def compute_cost(A2, Y, parameters):\n",
    "    \"\"\"\n",
    "    Computes the cross-entropy cost given in equation (13)\n",
    "    \n",
    "    Arguments:\n",
    "    A2 -- The sigmoid output of the second activation, of shape (1, number of examples)\n",
    "    Y -- \"true\" labels vector of shape (1, number of examples)\n",
    "    parameters -- python dictionary containing your parameters W1, b1, W2 and b2\n",
    "    \n",
    "    Returns:\n",
    "    cost -- cross-entropy cost given equation (13)\n",
    "    \"\"\"\n",
    "    \n",
    "    m = Y.shape[1] # number of example\n",
    "    \n",
    "    # Retrieve W1 and W2 from parameters\n",
    "    ### START CODE HERE ### (≈ 2 lines of code)\n",
    "    W1 = parameters['W1']\n",
    "    W2 = parameters['W2']\n",
    "    ### END CODE HERE ###\n",
    "    \n",
    "    # Compute the cross-entropy cost\n",
    "    ### START CODE HERE ### (≈ 2 lines of code)\n",
    "    logprobs = np.multiply(np.log(A2), Y) + np.multiply((1 - Y), np.log(1 - A2))\n",
    "    cost = - np.sum(logprobs) / m\n",
    "    ### END CODE HERE ###\n",
    "    \n",
    "    cost = np.squeeze(cost)     # makes sure cost is the dimension we expect. \n",
    "                                # E.g., turns [[17]] into 17 \n",
    "    assert(isinstance(cost, float))\n",
    "    \n",
    "    return cost"
   ]
  },
  {
   "cell_type": "code",
   "execution_count": 101,
   "metadata": {},
   "outputs": [],
   "source": [
    "def backward_propagation(parameters, cache, X, Y):\n",
    "    \"\"\"\n",
    "    Implement the backward propagation using the instructions above.\n",
    "    \n",
    "    Arguments:\n",
    "    parameters -- python dictionary containing our parameters \n",
    "    cache -- a dictionary containing \"Z1\", \"A1\", \"Z2\" and \"A2\".\n",
    "    X -- input data of shape (2, number of examples)\n",
    "    Y -- \"true\" labels vector of shape (1, number of examples)\n",
    "    \n",
    "    Returns:\n",
    "    grads -- python dictionary containing your gradients with respect to different parameters\n",
    "    \"\"\"\n",
    "    m = X.shape[1]\n",
    "    # First, retrieve W1 and W2 from the dictionary \"parameters\".\n",
    "    ### START CODE HERE ### (≈ 2 lines of code)\n",
    "    W1 = parameters['W1']\n",
    "    W2 = parameters['W2']\n",
    "    ### END CODE HERE ###\n",
    "        \n",
    "    # Retrieve also A1 and A2 from dictionary \"cache\".\n",
    "    ### START CODE HERE ### (≈ 2 lines of code)\n",
    "    A1 = cache['A1']\n",
    "    A2 = cache['A2']\n",
    "    ### END CODE HERE ###\n",
    "    \n",
    "    # Backward propagation: calculate dW1, db1, dW2, db2. \n",
    "    ### START CODE HERE ### (≈ 6 lines of code, corresponding to 6 equations on slide above)\n",
    "    dZ2= A2 - Y\n",
    "    dW2 = (1 / m) * np.dot(dZ2, A1.T)\n",
    "    db2 = (1 / m) * np.sum(dZ2, axis=1, keepdims=True)\n",
    "    dZ1 = np.multiply(np.dot(W2.T, dZ2), 1 - np.power(A1, 2))\n",
    "    dW1 = (1 / m) * np.dot(dZ1, X.T)\n",
    "    db1 = (1 / m) * np.sum(dZ1, axis=1, keepdims=True)\n",
    "    ### END CODE HERE ###\n",
    "    \n",
    "    grads = {\"dW1\": dW1,\n",
    "             \"db1\": db1,\n",
    "             \"dW2\": dW2,\n",
    "             \"db2\": db2}\n",
    "    \n",
    "    return grads"
   ]
  },
  {
   "cell_type": "code",
   "execution_count": 102,
   "metadata": {},
   "outputs": [],
   "source": [
    "def update_parameters(parameters, grads, learning_rate=0.006):\n",
    "    \"\"\"\n",
    "    Updates parameters using the gradient descent update rule given above\n",
    "    \n",
    "    Arguments:\n",
    "    parameters -- python dictionary containing your parameters \n",
    "    grads -- python dictionary containing your gradients \n",
    "    \n",
    "    Returns:\n",
    "    parameters -- python dictionary containing your updated parameters \n",
    "    \"\"\"\n",
    "    # Retrieve each parameter from the dictionary \"parameters\"\n",
    "    ### START CODE HERE ### (≈ 4 lines of code)\n",
    "    W1 = parameters['W1']\n",
    "    b1 = parameters['b1']\n",
    "    W2 = parameters['W2']\n",
    "    b2 = parameters['b2']\n",
    "    ### END CODE HERE ###\n",
    "    \n",
    "    # Retrieve each gradient from the dictionary \"grads\"\n",
    "    ### START CODE HERE ### (≈ 4 lines of code)\n",
    "    dW1 = grads['dW1']\n",
    "    db1 = grads['db1']\n",
    "    dW2 = grads['dW2']\n",
    "    db2 = grads['db2']\n",
    "    ## END CODE HERE ###\n",
    "    \n",
    "    # Update rule for each parameter\n",
    "    ### START CODE HERE ### (≈ 4 lines of code)\n",
    "    W1 = W1 - learning_rate * dW1\n",
    "    b1 = b1 - learning_rate * db1\n",
    "    W2 = W2 - learning_rate * dW2\n",
    "    b2 = b2 - learning_rate * db2\n",
    "    ### END CODE HERE ###\n",
    "    \n",
    "    parameters = {\"W1\": W1,\n",
    "                  \"b1\": b1,\n",
    "                  \"W2\": W2,\n",
    "                  \"b2\": b2}\n",
    "    \n",
    "    return parameters"
   ]
  },
  {
   "cell_type": "code",
   "execution_count": 111,
   "metadata": {},
   "outputs": [],
   "source": [
    "def nn_model(X, Y, n_h, nb_batch, batch_size, epoch=1000, print_cost=False):\n",
    "    \"\"\"\n",
    "    Arguments:\n",
    "    X -- dataset of shape (4, number of examples)\n",
    "    Y -- labels of shape (1, number of examples)\n",
    "    n_h -- size of the hidden layer\n",
    "    num_iterations -- Number of iterations in gradient descent loop\n",
    "    print_cost -- if True, print the cost every 1000 iterations\n",
    "    \n",
    "    Returns:\n",
    "    parameters -- parameters learnt by the model. They can then be used to predict.\n",
    "    \"\"\"\n",
    "    \n",
    "\n",
    "    # Initialize parameters, then retrieve W1, b1, W2, b2. Inputs: \"n_x, n_h, n_y\". Outputs = \"W1, b1, W2, b2, parameters\".\n",
    "    ### START CODE HERE ### (≈ 5 lines of code)\n",
    "    parameters = initialize_parameters(n_x, n_h, n_y)\n",
    "    W1 = parameters['W1']\n",
    "    b1 = parameters['b1']\n",
    "    W2 = parameters['W2']\n",
    "    b2 = parameters['b2']\n",
    "    ### END CODE HERE ###\n",
    "    save_cost = []\n",
    "    # Loop (gradient descent)\n",
    "\n",
    "    for e in range(0, epoch):\n",
    "        i=0\n",
    "        batch_X=[]\n",
    "        batch_Y=[]\n",
    "        for i in range (nb_batch):\n",
    "            batch_X= X[batch_size*i:batch_size*(i+1)].T\n",
    "            batch_Y= Y[batch_size*i:batch_size*(i+1)].T\n",
    "            ### START CODE HERE ### (≈ 4 lines of code)\n",
    "            # Forward propagation. Inputs: \"X, parameters\". Outputs: \"A2, cache\".\n",
    "            A2, cache = forward_propagation(batch_X, parameters)\n",
    "\n",
    "            # Cost function. Inputs: \"A2, Y, parameters\". Outputs: \"cost\".\n",
    "            cost = compute_cost(A2, batch_Y, parameters)\n",
    "\n",
    "            # Backpropagation. Inputs: \"parameters, cache, X, Y\". Outputs: \"grads\".\n",
    "            grads = backward_propagation(parameters, cache, batch_X, batch_Y)\n",
    "\n",
    "            # Gradient descent parameter update. Inputs: \"parameters, grads\". Outputs: \"parameters\".\n",
    "            parameters = update_parameters(parameters, grads)\n",
    "            if i%50==0:\n",
    "                print(\"cost batch \" +str(i)+\" epoch n° \" +str(e) + \": \"+ str(cost))\n",
    "            ### END CODE HERE ###\n",
    "        if e%100 == 0:\n",
    "            save_cost.append(cost)\n",
    "        # Print the cost every 1000 iterations\n",
    "        if print_cost and e % 100 == 0:\n",
    "            print (\"Cost after iteration %i: %f\" % (e, cost))\n",
    "        plt.plot(save_cost[1:len(save_cost)])\n",
    "    return parameters"
   ]
  },
  {
   "cell_type": "code",
   "execution_count": 112,
   "metadata": {
    "scrolled": true
   },
   "outputs": [
    {
     "name": "stdout",
     "output_type": "stream",
     "text": [
      "cost batch 0 epoch n° 0: 1.1720026784945923\n",
      "cost batch 50 epoch n° 0: 1.0821585970528642\n",
      "Cost after iteration 0: 1.024049\n"
     ]
    },
    {
     "data": {
      "image/png": "[encoded data removed]",
      "text/plain": [
       "<Figure size 432x288 with 1 Axes>"
      ]
     },
     "metadata": {
      "needs_background": "light"
     },
     "output_type": "display_data"
    }
   ],
   "source": [
    "parameters = nn_model(train_input_data, \n",
    "                      np.reshape(train_target_data,(len(train_target_data),1)), \n",
    "                      n_h, nb_batch=100, batch_size=1000, epoch=1, print_cost=True)"
   ]
  },
  {
   "cell_type": "code",
   "execution_count": 113,
   "metadata": {},
   "outputs": [],
   "source": [
    "def predict(parameters, X):\n",
    "    \"\"\"\n",
    "    Using the learned parameters, predicts a class for each example in X\n",
    "    \n",
    "    Arguments:\n",
    "    parameters -- python dictionary containing your parameters \n",
    "    X -- input data of size (n_x, m)\n",
    "    \n",
    "    Returns\n",
    "    predictions -- vector of predictions of our model (red: 0 / blue: 1)\n",
    "    \"\"\"\n",
    "    \n",
    "    # Computes probabilities using forward propagation, and classifies to 0/1 using 0.5 as the threshold.\n",
    "    ### START CODE HERE ### (≈ 2 lines of code)\n",
    "    A2, cache = forward_propagation(X, parameters)\n",
    "    predictions = np.round(A2)\n",
    "    ### END CODE HERE ###\n",
    "    \n",
    "    return predictions"
   ]
  },
  {
   "cell_type": "code",
   "execution_count": 114,
   "metadata": {},
   "outputs": [
    {
     "name": "stdout",
     "output_type": "stream",
     "text": [
      "Accuracy: 41%\n"
     ]
    }
   ],
   "source": [
    "predictions = predict(parameters, test_input_data[0:10000].T)\n",
    "print ('Accuracy: %d' % float((np.dot(train_target_data[0:10000], predictions.T) + \n",
    "                               np.dot(1 - test_target_data[0:10000], 1 - predictions.T)) / float(test_target_data[0:10000].size) * 100) + '%')"
   ]
  },
  {
   "cell_type": "code",
   "execution_count": null,
   "metadata": {},
   "outputs": [],
   "source": []
  }
 ],
 "metadata": {
  "kernelspec": {
   "display_name": "Python 3",
   "language": "python",
   "name": "python3"
  },
  "language_info": {
   "codemirror_mode": {
    "name": "ipython",
    "version": 3
   },
   "file_extension": ".py",
   "mimetype": "text/x-python",
   "name": "python",
   "nbconvert_exporter": "python",
   "pygments_lexer": "ipython3",
   "version": "3.6.8"
  }
 },
 "nbformat": 4,
 "nbformat_minor": 2
}
