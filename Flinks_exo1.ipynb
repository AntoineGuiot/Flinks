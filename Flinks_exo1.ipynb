{
 "cells": [
  {
   "cell_type": "markdown",
   "metadata": {},
   "source": []
  },
  {
   "cell_type": "code",
   "execution_count": 1,
   "metadata": {},
   "outputs": [],
   "source": [
    "import csv\n",
    "import matplotlib.pyplot as plt\n",
    "import numpy as np\n",
    "import tensorflow as tf\n",
    "from datetime import datetime\n",
    "import time\n",
    "config = tf.ConfigProto()\n",
    "config.gpu_options.allow_growth = True\n",
    "with open('ks-projects-201612.csv',  encoding=\"utf8\", errors='ignore') as file:\n",
    "  reader = csv.reader(file)\n",
    "  data_set = list(reader)\n",
    "data_set = np.array(data_set)"
   ]
  },
  {
   "cell_type": "code",
   "execution_count": 2,
   "metadata": {},
   "outputs": [
    {
     "data": {
      "text/plain": [
       "array([['ID ', 'name ', 'category ', ..., '', '', ''],\n       ['1000002330', 'The Songs of Adelaide & Abullah', 'Poetry', ...,\n        '', '', ''],\n       ['1000004038', 'Where is Hank?', 'Narrative Film', ..., '', '',\n        ''],\n       ...,\n       ['999986353',\n        'Walls of Remedy- New lesbian Romantic Comedy feature unlike any other!!',\n        'Narrative Film', ..., '', '', ''],\n       ['999987933', 'BioDefense Education Kit', 'Technology', ..., '',\n        '', ''],\n       ['999988282', 'Nou Renmen Ayiti!  We Love Haiti!',\n        'Performance Art', ..., '', '', '']], dtype='<U96')"
      ]
     },
     "execution_count": 2,
     "metadata": {},
     "output_type": "execute_result"
    }
   ],
   "source": [
    "data_set"
   ]
  },
  {
   "cell_type": "code",
   "execution_count": 3,
   "metadata": {},
   "outputs": [],
   "source": [
    "#utils\n",
    "def isfloat(value):\n",
    "  try:\n",
    "    float(value)\n",
    "    return True\n",
    "  except ValueError:\n",
    "    return False"
   ]
  },
  {
   "cell_type": "code",
   "execution_count": 4,
   "metadata": {},
   "outputs": [],
   "source": [
    "header = data_set[0]\n",
    "data_set = data_set[1:len(data_set)] #data set without the header"
   ]
  },
  {
   "cell_type": "code",
   "execution_count": 5,
   "metadata": {},
   "outputs": [
    {
     "name": "stdout",
     "output_type": "stream",
     "text": [
      "5.697174787521362\n"
     ]
    }
   ],
   "source": [
    "def clean_data_set(data_set):\n",
    "    ti = time.time()\n",
    "    delete_lines =[]\n",
    "    for i in range (len(data_set)):\n",
    "        if isfloat(data_set[i,6])==False or data_set[i,9] not in ['failed','successful'] :\n",
    "            delete_lines.append(i)\n",
    "    data_set = np.delete(data_set, (delete_lines), axis=0)\n",
    "    tf=time.time()\n",
    "    print (tf-ti)\n",
    "    return data_set\n",
    "\n",
    "data_set = clean_data_set(data_set)"
   ]
  },
  {
   "cell_type": "code",
   "execution_count": 6,
   "metadata": {},
   "outputs": [
    {
     "data": {
      "text/plain": [
       "281302"
      ]
     },
     "execution_count": 6,
     "metadata": {},
     "output_type": "execute_result"
    }
   ],
   "source": [
    "data_set_size = len(data_set)\n",
    "data_set_size"
   ]
  },
  {
   "cell_type": "code",
   "execution_count": 7,
   "metadata": {},
   "outputs": [
    {
     "name": "stdout",
     "output_type": "stream",
     "text": [
      "main_category \ncategory \n"
     ]
    }
   ],
   "source": [
    "print(header[3])\n",
    "print(header[2])"
   ]
  },
  {
   "cell_type": "code",
   "execution_count": 8,
   "metadata": {},
   "outputs": [
    {
     "data": {
      "text/plain": [
       "array(['failed', 'failed', 'failed', ..., 'failed', 'failed', 'failed'],\n      dtype='<U96')"
      ]
     },
     "execution_count": 8,
     "metadata": {},
     "output_type": "execute_result"
    }
   ],
   "source": [
    "data_set_output = data_set[:,9]\n",
    "data_set_output"
   ]
  },
  {
   "cell_type": "code",
   "execution_count": 9,
   "metadata": {},
   "outputs": [
    {
     "data": {
      "text/plain": [
       "['failed', 'successful']"
      ]
     },
     "execution_count": 9,
     "metadata": {},
     "output_type": "execute_result"
    }
   ],
   "source": [
    "list_of_output =[]\n",
    "for j in range (len(data_set_output)):\n",
    "    if data_set_output[j] not in list_of_output:\n",
    "        list_of_output.append(data_set_output[j])\n",
    "\n",
    "list_of_output"
   ]
  },
  {
   "cell_type": "code",
   "execution_count": 10,
   "metadata": {},
   "outputs": [
    {
     "data": {
      "text/plain": [
       "array(['Poetry', 'Narrative Film', 'Music', ..., 'Narrative Film',\n       'Technology', 'Performance Art'], dtype='<U96')"
      ]
     },
     "execution_count": 10,
     "metadata": {},
     "output_type": "execute_result"
    }
   ],
   "source": [
    "data_set_category = data_set[:,2]\n",
    "data_set_category"
   ]
  },
  {
   "cell_type": "code",
   "execution_count": 11,
   "metadata": {
    "scrolled": true
   },
   "outputs": [
    {
     "data": {
      "text/plain": [
       "158"
      ]
     },
     "execution_count": 11,
     "metadata": {},
     "output_type": "execute_result"
    }
   ],
   "source": [
    "list_of_categorie =[]\n",
    "for j in range (len(data_set_category)):\n",
    "    if data_set_category[j] not in list_of_categorie:\n",
    "        list_of_categorie.append(data_set_category[j])\n",
    "\n",
    "len(list_of_categorie)"
   ]
  },
  {
   "cell_type": "code",
   "execution_count": 12,
   "metadata": {},
   "outputs": [
    {
     "data": {
      "text/plain": [
       "array(['Publishing', 'Film & Video', 'Music', ..., 'Film & Video',\n       'Technology', 'Art'], dtype='<U96')"
      ]
     },
     "execution_count": 12,
     "metadata": {},
     "output_type": "execute_result"
    }
   ],
   "source": [
    "data_set_main_category = data_set[:,3]\n",
    "data_set_main_category"
   ]
  },
  {
   "cell_type": "code",
   "execution_count": 14,
   "metadata": {},
   "outputs": [
    {
     "data": {
      "text/plain": [
       "15"
      ]
     },
     "execution_count": 14,
     "metadata": {},
     "output_type": "execute_result"
    }
   ],
   "source": [
    "list_of_main_categorie =[]\n",
    "for j in range (len(data_set_category)):\n",
    "    if data_set_main_category[j] not in list_of_main_categorie:\n",
    "        list_of_main_categorie.append(data_set_main_category[j])\n",
    "\n",
    "len(list_of_main_categorie)"
   ]
  },
  {
   "cell_type": "code",
   "execution_count": 15,
   "metadata": {},
   "outputs": [
    {
     "data": {
      "text/plain": [
       "array(['GBP', 'USD', 'USD', ..., 'USD', 'USD', 'USD'], dtype='<U96')"
      ]
     },
     "execution_count": 15,
     "metadata": {},
     "output_type": "execute_result"
    }
   ],
   "source": [
    "data_set_currency = data_set[:,4]\n",
    "data_set_currency"
   ]
  },
  {
   "cell_type": "code",
   "execution_count": 16,
   "metadata": {},
   "outputs": [
    {
     "data": {
      "text/plain": [
       "13"
      ]
     },
     "execution_count": 16,
     "metadata": {},
     "output_type": "execute_result"
    }
   ],
   "source": [
    "list_of_currency =[]\n",
    "for j in range (len(data_set_currency)):\n",
    "    if data_set_currency[j] not in list_of_currency:\n",
    "        list_of_currency.append(data_set_currency[j])\n",
    "\n",
    "len(list_of_currency)"
   ]
  },
  {
   "cell_type": "code",
   "execution_count": 17,
   "metadata": {},
   "outputs": [
    {
     "data": {
      "text/plain": [
       "array(['GB', 'US', 'US', ..., 'US', 'US', 'US'], dtype='<U96')"
      ]
     },
     "execution_count": 17,
     "metadata": {},
     "output_type": "execute_result"
    }
   ],
   "source": [
    "data_set_country = data_set[:,11]\n",
    "data_set_country"
   ]
  },
  {
   "cell_type": "code",
   "execution_count": 18,
   "metadata": {},
   "outputs": [
    {
     "data": {
      "text/plain": [
       "22"
      ]
     },
     "execution_count": 18,
     "metadata": {},
     "output_type": "execute_result"
    }
   ],
   "source": [
    "list_of_country =[]\n",
    "for j in range (len(data_set_country)):\n",
    "    if data_set_country[j] not in list_of_country:\n",
    "        list_of_country.append(data_set_country[j])\n",
    "\n",
    "len(list_of_country)"
   ]
  },
  {
   "cell_type": "code",
   "execution_count": 19,
   "metadata": {},
   "outputs": [],
   "source": [
    "def days_between(d1, d2):\n",
    "    d1 = datetime.strptime(d1, \"%Y-%m-%d %H:%M:%S\")\n",
    "    d2 = datetime.strptime(d2, \"%Y-%m-%d %H:%M:%S\")\n",
    "    return abs((d2 - d1).days)"
   ]
  },
  {
   "cell_type": "code",
   "execution_count": 20,
   "metadata": {},
   "outputs": [
    {
     "data": {
      "text/plain": [
       "array(['ID ', 'name ', 'category ', 'main_category ', 'currency ',\n       'deadline ', 'goal ', 'launched ', 'pledged ', 'state ',\n       'backers ', 'country ', 'usd pledged ', '', '', '', ''],\n      dtype='<U96')"
      ]
     },
     "execution_count": 20,
     "metadata": {},
     "output_type": "execute_result"
    }
   ],
   "source": [
    "header"
   ]
  },
  {
   "cell_type": "code",
   "execution_count": 21,
   "metadata": {},
   "outputs": [],
   "source": [
    "import time\n",
    "def build_input_layer(data_set):\n",
    "    ti = time.time()\n",
    "    input_data_set = np.zeros((len(data_set),6))\n",
    "    for i in range (len(data_set)):\n",
    "        if isfloat(data_set[i,6]):\n",
    "            input_data_set[i,0] = days_between(data_set[i][7],data_set[i][5]) #time allowed to get the money\n",
    "            input_data_set[i,1] = float(data_set[i][6]) #the goal\n",
    "            input_data_set[i,2] = list_of_main_categorie.index(data_set[i][3]) #the main categorie is now encoding with a number beetween 0 and 120\n",
    "            input_data_set[i,3] = list_of_categorie.index(data_set[i][2]) #the categorie is now encoding with a number\n",
    "            input_data_set[i,4] = list_of_country.index(data_set[i][11]) # the country encoding with a number\n",
    "            input_data_set[i,5] = list_of_currency.index(data_set[i][4]) # the currency encoding with a number\n",
    "    tf = time.time()\n",
    "    print(\"temps : \" +str(tf-ti))\n",
    "    return input_data_set   "
   ]
  },
  {
   "cell_type": "code",
   "execution_count": 22,
   "metadata": {},
   "outputs": [
    {
     "name": "stdout",
     "output_type": "stream",
     "text": [
      "temps : 13.194271802902222\n"
     ]
    }
   ],
   "source": [
    "input_data = build_input_layer(data_set)"
   ]
  },
  {
   "cell_type": "code",
   "execution_count": 23,
   "metadata": {},
   "outputs": [
    {
     "data": {
      "text/plain": [
       "41833.055598076084"
      ]
     },
     "execution_count": 23,
     "metadata": {},
     "output_type": "execute_result"
    },
    {
     "data": {
      "image/png": "[encoded data removed]",
      "text/plain": [
       "<Figure size 432x288 with 1 Axes>"
      ]
     },
     "metadata": {},
     "output_type": "display_data"
    }
   ],
   "source": [
    "plt.plot(input_data[:,1])\n",
    "np.mean(input_data[:,1])"
   ]
  },
  {
   "cell_type": "code",
   "execution_count": 24,
   "metadata": {},
   "outputs": [],
   "source": [
    "#normalize the input_data\n",
    "#max date time\n",
    "max_date = max(input_data[:,0])\n",
    "#max goal \n",
    "max_goal =max(input_data[:,1])\n",
    "#max main categorie\n",
    "max_main_categorie = max(input_data[:,2])\n",
    "#max categorie\n",
    "max_categorie = max(input_data[:,3])\n",
    "#max country\n",
    "max_country = max(input_data[:,4])\n",
    "#max currency\n",
    "max_currency = max(input_data[:,5])\n",
    "\n",
    "def normalize_input_data(input_data):\n",
    "    input_data[:,0] = np.divide(input_data[:,0],max_date)\n",
    "    input_data[:,1] = np.divide(input_data[:,1],max_goal)\n",
    "    input_data[:,2] = np.divide(input_data[:,2],max_main_categorie)\n",
    "    input_data[:,3] = np.divide(input_data[:,3],max_categorie)\n",
    "    input_data[:,4] = np.divide(input_data[:,4],max_country)\n",
    "    input_data[:,5] = np.divide(input_data[:,5],max_currency)\n",
    "    \n",
    "    return input_data\n",
    "\n",
    "input_data = normalize_input_data(input_data)"
   ]
  },
  {
   "cell_type": "code",
   "execution_count": 25,
   "metadata": {},
   "outputs": [],
   "source": []
  },
  {
   "cell_type": "code",
   "execution_count": 25,
   "metadata": {},
   "outputs": [],
   "source": [
    "def build_target_layer(data_set):\n",
    "    target_data = np.zeros(len(data_set))\n",
    "    for i in range (len(data_set)):\n",
    "        if data_set[i,9]=='failed':\n",
    "            target_data[i] = 0\n",
    "        else :\n",
    "            target_data[i]= 1\n",
    "    return target_data\n",
    "target_data = build_target_layer(data_set)"
   ]
  },
  {
   "cell_type": "code",
   "execution_count": 26,
   "metadata": {},
   "outputs": [
    {
     "name": "stdout",
     "output_type": "stream",
     "text": [
      "281302\n281302\n"
     ]
    }
   ],
   "source": [
    "print (len(target_data))\n",
    "print (len(input_data))"
   ]
  },
  {
   "cell_type": "code",
   "execution_count": 27,
   "metadata": {},
   "outputs": [],
   "source": [
    "train_data_set_size = 100000\n",
    "test_data_set_size = 50000\n",
    "train_input_data = input_data[0:train_data_set_size]\n",
    "test_input_data = input_data[train_data_set_size + 1 : train_data_set_size + test_data_set_size]\n",
    "\n",
    "train_target_data = target_data[0:train_data_set_size]\n",
    "test_target_data = target_data[train_data_set_size + 1 : train_data_set_size + test_data_set_size]"
   ]
  },
  {
   "cell_type": "code",
   "execution_count": 28,
   "metadata": {},
   "outputs": [
    {
     "name": "stdout",
     "output_type": "stream",
     "text": [
      "WARNING:tensorflow:From <ipython-input-28-e6b7fa5cc585>:26: softmax_cross_entropy_with_logits (from tensorflow.python.ops.nn_ops) is deprecated and will be removed in a future version.\nInstructions for updating:\n\nFuture major versions of TensorFlow will allow gradients to flow\ninto the labels input on backprop by default.\n\nSee `tf.nn.softmax_cross_entropy_with_logits_v2`.\n\n"
     ]
    }
   ],
   "source": [
    "#build the model in tensorflow\n",
    "# Graph Inputs\n",
    "tf_features = tf.placeholder(tf.float32, [None, 6])\n",
    "tf_targets = tf.placeholder(tf.float32, [None, 1])\n",
    "\n",
    "#softmax_input = tf.nn.softmax(tf_features)\n",
    "\n",
    "# Variables 1 layer\n",
    "w1 = tf.Variable(tf.random_normal([6, 100]))\n",
    "b1 = tf.Variable(tf.zeros([100]))\n",
    "\n",
    "#  Operations 1\n",
    "z1 = tf.matmul(tf_features, w1) + b1\n",
    "sigmoid1 = tf.math.sigmoid(z1)\n",
    "\n",
    "#Variable 2 layer\n",
    "\n",
    "w2 = tf.Variable(tf.random_normal([100, 1]))\n",
    "b2 = tf.Variable(tf.random_normal([1]))\n",
    "\n",
    "# Operation 2\n",
    "z2 = tf.matmul(sigmoid1, w2) + b2\n",
    "sigmoid2 = tf.nn.sigmoid(z2)\n",
    "\n",
    "# Error + Train\n",
    "error = tf.nn.softmax_cross_entropy_with_logits(labels=tf_targets, logits=sigmoid2)\n",
    "#error = tf.math.abs(tf_targets - softmax2)\n",
    "train = tf.train.GradientDescentOptimizer(0.5).minimize(error)\n",
    "\n",
    "# Metrics: Accuracy\n",
    "# correct_prediction = tf.equal(tf.argmax(softmax1, 1), tf.argmax(tf_targets, 1))\n",
    "# accuracy = tf.reduce_mean(tf.cast(correct_prediction, tf.float32))"
   ]
  },
  {
   "cell_type": "code",
   "execution_count": 30,
   "metadata": {},
   "outputs": [],
   "source": [
    "with tf.Session() as sess:\n",
    "    sess.run(tf.global_variables_initializer())\n",
    "    test = np.random.rand(10, 6)\n",
    "    # Train the model\n",
    "    epochs = 10\n",
    "    for e in range(epochs):\n",
    "        batch_features, batch_targets = train_input_data[0:10], np.reshape(train_target_data[0: 10],(10,1))\n",
    "        _, error_, z1_ = sess.run([train, error, z1], \n",
    "            feed_dict={\n",
    "            tf_features: batch_features,\n",
    "            tf_targets: batch_targets})\n",
    "        #print(\"error = \"+str(error_))\n",
    "        print(\"z1 = \"+str(z1_))\n",
    "        print(\"softmax_1 = \"+ str(softmax1_))"
   ]
  },
  {
   "cell_type": "code",
   "execution_count": null,
   "metadata": {},
   "outputs": [],
   "source": [
    "np.shape(np.reshape(train_target_data, (len(train_target_data),1)))"
   ]
  },
  {
   "cell_type": "code",
   "execution_count": null,
   "metadata": {},
   "outputs": [],
   "source": []
  },
  {
   "cell_type": "code",
   "execution_count": null,
   "metadata": {},
   "outputs": [],
   "source": []
  }
 ],
 "metadata": {
  "kernelspec": {
   "display_name": "Python 3",
   "language": "python",
   "name": "python3"
  },
  "language_info": {
   "codemirror_mode": {
    "name": "ipython",
    "version": 3
   },
   "file_extension": ".py",
   "mimetype": "text/x-python",
   "name": "python",
   "nbconvert_exporter": "python",
   "pygments_lexer": "ipython3",
   "version": "3.6.8"
  }
 },
 "nbformat": 4,
 "nbformat_minor": 2
}
