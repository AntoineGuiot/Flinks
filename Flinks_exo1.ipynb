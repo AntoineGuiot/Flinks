{
 "cells": [
  {
   "cell_type": "markdown",
   "metadata": {},
   "source": []
  },
  {
   "cell_type": "code",
   "execution_count": 46,
   "metadata": {},
   "outputs": [],
   "source": [
    "import csv\n",
    "import matplotlib.pyplot as plt\n",
    "import numpy as np\n",
    "import tensorflow as tf\n",
    "from datetime import datetime\n",
    "\n",
    "with open('ks-projects-201612.csv', 'r') as file:\n",
    "  reader = csv.reader(file)\n",
    "  data_set = list(reader)\n",
    "data_set = np.array(data_set)"
   ]
  },
  {
   "cell_type": "code",
   "execution_count": 47,
   "metadata": {},
   "outputs": [],
   "source": [
    "#utils\n",
    "def isfloat(value):\n",
    "  try:\n",
    "    float(value)\n",
    "    return True\n",
    "  except ValueError:\n",
    "    return False"
   ]
  },
  {
   "cell_type": "code",
   "execution_count": 48,
   "metadata": {},
   "outputs": [],
   "source": [
    "header = data_set[0]\n",
    "data_set = data_set[1:len(data_set)] #data set without the header"
   ]
  },
  {
   "cell_type": "code",
   "execution_count": 49,
   "metadata": {},
   "outputs": [],
   "source": [
    "def clean_data_set(data_set):\n",
    "    delete_lines =[]\n",
    "    for i in range (len(data_set)):\n",
    "        if isfloat(data_set[i,6])==False or data_set[i,9] not in ['failed','successful'] :\n",
    "            delete_lines.append(i)\n",
    "    data_set = np.delete(data_set, (delete_lines), axis=0)\n",
    "    return data_set\n",
    "\n",
    "data_set = clean_data_set(data_set)"
   ]
  },
  {
   "cell_type": "code",
   "execution_count": 50,
   "metadata": {},
   "outputs": [
    {
     "data": {
      "text/plain": [
       "281302"
      ]
     },
     "execution_count": 50,
     "metadata": {},
     "output_type": "execute_result"
    }
   ],
   "source": [
    "data_set_size = len(data_set)\n",
    "data_set_size"
   ]
  },
  {
   "cell_type": "code",
   "execution_count": 51,
   "metadata": {},
   "outputs": [],
   "source": [
    "train_data_set_size = 100000\n",
    "test_data_set_size = 50000\n",
    "train_data_set = data_set[0:train_data_set_size]\n",
    "test_data_set = data_set[train_data_set_size + 1 : train_data_set_size + test_data_set_size]"
   ]
  },
  {
   "cell_type": "code",
   "execution_count": 52,
   "metadata": {},
   "outputs": [
    {
     "name": "stdout",
     "output_type": "stream",
     "text": [
      "main_category \n",
      "category \n"
     ]
    }
   ],
   "source": [
    "print(header[3])\n",
    "print(header[2])"
   ]
  },
  {
   "cell_type": "code",
   "execution_count": 53,
   "metadata": {},
   "outputs": [
    {
     "data": {
      "text/plain": [
       "array(['failed', 'failed', 'failed', ..., 'failed', 'failed', 'failed'],\n",
       "      dtype='|S96')"
      ]
     },
     "execution_count": 53,
     "metadata": {},
     "output_type": "execute_result"
    }
   ],
   "source": [
    "data_set_output = data_set[:,9]\n",
    "data_set_output"
   ]
  },
  {
   "cell_type": "code",
   "execution_count": 54,
   "metadata": {},
   "outputs": [
    {
     "data": {
      "text/plain": [
       "['failed', 'successful']"
      ]
     },
     "execution_count": 54,
     "metadata": {},
     "output_type": "execute_result"
    }
   ],
   "source": [
    "list_of_output =[]\n",
    "for j in range (len(data_set_output)):\n",
    "    if data_set_output[j] not in list_of_output:\n",
    "        list_of_output.append(data_set_output[j])\n",
    "\n",
    "list_of_output"
   ]
  },
  {
   "cell_type": "code",
   "execution_count": 55,
   "metadata": {},
   "outputs": [
    {
     "data": {
      "text/plain": [
       "array(['Poetry', 'Narrative Film', 'Music', ..., 'Narrative Film',\n",
       "       'Technology', 'Performance Art'], dtype='|S96')"
      ]
     },
     "execution_count": 55,
     "metadata": {},
     "output_type": "execute_result"
    }
   ],
   "source": [
    "data_set_category = data_set[:,2]\n",
    "data_set_category"
   ]
  },
  {
   "cell_type": "code",
   "execution_count": 56,
   "metadata": {
    "scrolled": true
   },
   "outputs": [
    {
     "data": {
      "text/plain": [
       "158"
      ]
     },
     "execution_count": 56,
     "metadata": {},
     "output_type": "execute_result"
    }
   ],
   "source": [
    "list_of_categorie =[]\n",
    "for j in range (len(data_set_category)):\n",
    "    if data_set_category[j] not in list_of_categorie:\n",
    "        list_of_categorie.append(data_set_category[j])\n",
    "\n",
    "len(list_of_categorie)"
   ]
  },
  {
   "cell_type": "code",
   "execution_count": 57,
   "metadata": {},
   "outputs": [
    {
     "data": {
      "text/plain": [
       "array(['Publishing', 'Film & Video', 'Music', ..., 'Film & Video',\n",
       "       'Technology', 'Art'], dtype='|S96')"
      ]
     },
     "execution_count": 57,
     "metadata": {},
     "output_type": "execute_result"
    }
   ],
   "source": [
    "data_set_main_category = data_set[:,3]\n",
    "data_set_main_category"
   ]
  },
  {
   "cell_type": "code",
   "execution_count": 58,
   "metadata": {},
   "outputs": [
    {
     "data": {
      "text/plain": [
       "15"
      ]
     },
     "execution_count": 58,
     "metadata": {},
     "output_type": "execute_result"
    }
   ],
   "source": [
    "list_of_main_categorie =[]\n",
    "for j in range (len(data_set_category)):\n",
    "    if data_set_main_category[j] not in list_of_main_categorie:\n",
    "        list_of_main_categorie.append(data_set_main_category[j])\n",
    "\n",
    "len(list_of_main_categorie)"
   ]
  },
  {
   "cell_type": "code",
   "execution_count": 59,
   "metadata": {},
   "outputs": [
    {
     "data": {
      "text/plain": [
       "array(['GBP', 'USD', 'USD', ..., 'USD', 'USD', 'USD'], dtype='|S96')"
      ]
     },
     "execution_count": 59,
     "metadata": {},
     "output_type": "execute_result"
    }
   ],
   "source": [
    "data_set_currency = data_set[:,4]\n",
    "data_set_currency"
   ]
  },
  {
   "cell_type": "code",
   "execution_count": 60,
   "metadata": {},
   "outputs": [
    {
     "data": {
      "text/plain": [
       "13"
      ]
     },
     "execution_count": 60,
     "metadata": {},
     "output_type": "execute_result"
    }
   ],
   "source": [
    "list_of_currency =[]\n",
    "for j in range (len(data_set_currency)):\n",
    "    if data_set_currency[j] not in list_of_currency:\n",
    "        list_of_currency.append(data_set_currency[j])\n",
    "\n",
    "len(list_of_currency)"
   ]
  },
  {
   "cell_type": "code",
   "execution_count": 61,
   "metadata": {},
   "outputs": [
    {
     "data": {
      "text/plain": [
       "array(['GB', 'US', 'US', ..., 'US', 'US', 'US'], dtype='|S96')"
      ]
     },
     "execution_count": 61,
     "metadata": {},
     "output_type": "execute_result"
    }
   ],
   "source": [
    "data_set_country = data_set[:,11]\n",
    "data_set_country"
   ]
  },
  {
   "cell_type": "code",
   "execution_count": 62,
   "metadata": {},
   "outputs": [
    {
     "data": {
      "text/plain": [
       "22"
      ]
     },
     "execution_count": 62,
     "metadata": {},
     "output_type": "execute_result"
    }
   ],
   "source": [
    "list_of_country =[]\n",
    "for j in range (len(data_set_country)):\n",
    "    if data_set_country[j] not in list_of_country:\n",
    "        list_of_country.append(data_set_country[j])\n",
    "\n",
    "len(list_of_country)"
   ]
  },
  {
   "cell_type": "code",
   "execution_count": 63,
   "metadata": {},
   "outputs": [],
   "source": [
    "def days_between(d1, d2):\n",
    "    d1 = datetime.strptime(d1, \"%Y-%m-%d %H:%M:%S\")\n",
    "    d2 = datetime.strptime(d2, \"%Y-%m-%d %H:%M:%S\")\n",
    "    return abs((d2 - d1).days)"
   ]
  },
  {
   "cell_type": "code",
   "execution_count": 64,
   "metadata": {},
   "outputs": [
    {
     "data": {
      "text/plain": [
       "array(['ID ', 'name ', 'category ', 'main_category ', 'currency ',\n",
       "       'deadline ', 'goal ', 'launched ', 'pledged ', 'state ',\n",
       "       'backers ', 'country ', 'usd pledged ', '', '', '', ''],\n",
       "      dtype='|S96')"
      ]
     },
     "execution_count": 64,
     "metadata": {},
     "output_type": "execute_result"
    }
   ],
   "source": [
    "header"
   ]
  },
  {
   "cell_type": "code",
   "execution_count": 65,
   "metadata": {},
   "outputs": [
    {
     "data": {
      "text/plain": [
       "0"
      ]
     },
     "execution_count": 65,
     "metadata": {},
     "output_type": "execute_result"
    }
   ],
   "source": [
    "list_of_main_categorie.index(data_set[0][3])"
   ]
  },
  {
   "cell_type": "code",
   "execution_count": 66,
   "metadata": {},
   "outputs": [],
   "source": [
    "import time\n",
    "def build_input_layer(data_set):\n",
    "    ti = time.time()\n",
    "    input_data_set = np.zeros((len(data_set),6))\n",
    "    for i in range (len(data_set)):\n",
    "        if isfloat(data_set[i,6]):\n",
    "            input_data_set[i,0] = days_between(data_set[i][7],data_set[i][5]) #time allowed to get the money\n",
    "            input_data_set[i,1] = float(data_set[i][6]) #the goal\n",
    "            input_data_set[i,2] = list_of_main_categorie.index(data_set[i][3]) #the main categorie is now encoding with a number beetween 0 and 120\n",
    "            input_data_set[i,3] = list_of_categorie.index(data_set[i][2]) #the categorie is now encoding with a number\n",
    "            input_data_set[i,4] = list_of_country.index(data_set[i][11]) # the country encoding with a number\n",
    "            input_data_set[i,5] = list_of_currency.index(data_set[i][4]) # the currency encoding with a number\n",
    "    tf = time.time()\n",
    "    print(\"temps : \"tf-ti)\n",
    "    return input_data_set   "
   ]
  },
  {
   "cell_type": "code",
   "execution_count": 67,
   "metadata": {},
   "outputs": [
    {
     "name": "stdout",
     "output_type": "stream",
     "text": [
      "14.0236771107\n"
     ]
    }
   ],
   "source": [
    "input_layer = build_input_layer(data_set)"
   ]
  },
  {
   "cell_type": "code",
   "execution_count": 21,
   "metadata": {},
   "outputs": [
    {
     "name": "stdout",
     "output_type": "stream",
     "text": [
      "['1000002330' 'The Songs of Adelaide & Abullah' 'Poetry' 'Publishing'\n",
      " 'GBP' '2015-10-09 11:36:00' '1000' '2015-08-11 12:12:28' '0' 'failed' '0'\n",
      " 'GB' '0' '' '' '' '']\n"
     ]
    },
    {
     "data": {
      "text/plain": [
       "array([  58., 1000.,    0.,    0.,    0.,    0.])"
      ]
     },
     "execution_count": 21,
     "metadata": {},
     "output_type": "execute_result"
    }
   ],
   "source": [
    "print(data_set[0])\n",
    "input_layer[0]"
   ]
  },
  {
   "cell_type": "code",
   "execution_count": 74,
   "metadata": {},
   "outputs": [],
   "source": [
    "def build_target_layer(data_set):\n",
    "    target_data = np.zeros(len(data_set))\n",
    "    for i in range (len(data_set)):\n",
    "        if data_set[i,9]=='failed':\n",
    "            target_data[i] = 0\n",
    "        else :\n",
    "            target_data[i]= 1\n",
    "    return target_data\n",
    "target_data = build_target_layer(data_set)"
   ]
  },
  {
   "cell_type": "code",
   "execution_count": 75,
   "metadata": {},
   "outputs": [
    {
     "data": {
      "text/plain": [
       "array([0., 0., 0., ..., 0., 0., 0.])"
      ]
     },
     "execution_count": 75,
     "metadata": {},
     "output_type": "execute_result"
    }
   ],
   "source": [
    "target_data"
   ]
  },
  {
   "cell_type": "code",
   "execution_count": 78,
   "metadata": {},
   "outputs": [
    {
     "data": {
      "text/plain": [
       "1.0"
      ]
     },
     "execution_count": 78,
     "metadata": {},
     "output_type": "execute_result"
    }
   ],
   "source": [
    "target_data[123213]"
   ]
  },
  {
   "cell_type": "code",
   "execution_count": null,
   "metadata": {},
   "outputs": [],
   "source": []
  }
 ],
 "metadata": {
  "kernelspec": {
   "display_name": "Python 2",
   "language": "python",
   "name": "python2"
  },
  "language_info": {
   "codemirror_mode": {
    "name": "ipython",
    "version": 2
   },
   "file_extension": ".py",
   "mimetype": "text/x-python",
   "name": "python",
   "nbconvert_exporter": "python",
   "pygments_lexer": "ipython2",
   "version": "2.7.15"
  }
 },
 "nbformat": 4,
 "nbformat_minor": 2
}
